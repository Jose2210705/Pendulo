{
 "cells": [
  {
   "cell_type": "markdown",
   "id": "f0900cb0",
   "metadata": {},
   "source": [
    "# EXPERIMENTO FÍSICA PÉNDULO\n",
    "###### By: Fabián Archila, David Ortiz, Jeisson Guillermo y Jose Castillo\n",
    "\n",
    "Para realizar la simulación de este experimento, lo hacemos por Python. A continuación se mostrará el procedimiento:\n",
    "\n",
    "1. Como primer paso se importan las bibliotecas que necesitaremos a lo largo de la simulación."
   ]
  },
  {
   "cell_type": "code",
   "execution_count": 2,
   "id": "8ffaff9c",
   "metadata": {},
   "outputs": [],
   "source": [
    "import pandas as pd\n",
    "import numpy as np\n",
    "import math\n",
    "import scipy.special\n",
    "import matplotlib.pyplot as plt"
   ]
  },
  {
   "cell_type": "markdown",
   "id": "e246ef61",
   "metadata": {},
   "source": [
    "2. Para poder saber qué ángulos se pueden considerar pequeños para hacer el procedimiento experimental, se realiza una medición que consiste en saber el porcentaje de aproximación para cuando $\\operatorname{sen} \\theta \\approx \\theta$. A continuación se verá un ejemplo de un ángulo de $24°$."
   ]
  },
  {
   "cell_type": "code",
   "execution_count": 4,
   "id": "a1e925d0",
   "metadata": {},
   "outputs": [
    {
     "name": "stdout",
     "output_type": "stream",
     "text": [
      "grados sexagesimales: 24\n",
      "0.4067366430758002\n"
     ]
    }
   ],
   "source": [
    "# seno de los radianes\n",
    "\n",
    "a = input(\"grados sexagesimales: \") #Generamos un input para introducir el ángulo que queremos hallarle su sin\n",
    "s1 = float (a) #El float indica que se trabajará con decimales\n",
    "s2 = math.radians(s1) #Pasamos de grados a radianes\n",
    "\n",
    "fab = math.sin(s2) #Se halla el sin del ángulo\n",
    "print(fab) #Nos muestra el resultado"
   ]
  },
  {
   "cell_type": "markdown",
   "id": "5f98a5c4",
   "metadata": {},
   "source": [
    "Al tener hallado el $\\operatorname{sen} \\theta$, ahora queremos solo el ángulo pero en radianes, para eso generamos un código que nos hacer el factor de conversión respectivo."
   ]
  },
  {
   "cell_type": "code",
   "execution_count": 5,
   "id": "32c74ea1",
   "metadata": {},
   "outputs": [
    {
     "name": "stdout",
     "output_type": "stream",
     "text": [
      "grados sexagesimales: 24\n",
      "0.4188790204786391\n"
     ]
    }
   ],
   "source": [
    "# radianes\n",
    "a = input(\"grados sexagesimales: \") \n",
    "s1 = float (a) \n",
    "s2 = math.radians(s1) \n",
    "print(s2)"
   ]
  },
  {
   "cell_type": "markdown",
   "id": "c82ac961",
   "metadata": {},
   "source": [
    "Después de tener los dos datos, ahora hallamos el porcentaje de aproximación, donde la diferencia no debe ser mayor a $3%$, a continuación se puede determinar entonces que $24°$ es considerado un ángulo pequeño."
   ]
  },
  {
   "cell_type": "code",
   "execution_count": 6,
   "id": "fe73fde3",
   "metadata": {},
   "outputs": [
    {
     "name": "stdout",
     "output_type": "stream",
     "text": [
      "97.10122092317629\n"
     ]
    }
   ],
   "source": [
    "b = (fab *100)/s2 #Multiplicamos el seno del ángulo por 100% y lo dividimos en el ángulo en radianes, los que nos da un porcentaje de exactitud.\n",
    "print(b)"
   ]
  },
  {
   "cell_type": "markdown",
   "id": "1e26e4e9",
   "metadata": {},
   "source": [
    "Si hallamos la diferencia entre el $100%$ y el resultado que nos bota el código, da un número no mayor a $3%$, es decir, cumple con la condición."
   ]
  },
  {
   "cell_type": "code",
   "execution_count": 7,
   "id": "0f2c61fd",
   "metadata": {},
   "outputs": [
    {
     "name": "stdout",
     "output_type": "stream",
     "text": [
      "2.8987790768237147\n"
     ]
    }
   ],
   "source": [
    "print(100-b)"
   ]
  },
  {
   "cell_type": "markdown",
   "id": "d0093453",
   "metadata": {},
   "source": [
    "2. Como segundo objetivo a realiza, vamos a impotrtar todos los datos recopilados de tracker en un excel, a python mediante pandas."
   ]
  },
  {
   "cell_type": "code",
   "execution_count": 18,
   "id": "0e67b358",
   "metadata": {},
   "outputs": [],
   "source": [
    "# teta1 es 2 metros 600 ml 70 grados.\n",
    "teta1= pd.read_excel(\"Datos videos.xlsx\",usecols=(\"H\"),skiprows=(1))"
   ]
  },
  {
   "cell_type": "code",
   "execution_count": 19,
   "id": "f726846f",
   "metadata": {},
   "outputs": [],
   "source": [
    "# teta2 es 2 metros 600 ml 60 grados.\n",
    "teta2= pd.read_excel(\"Datos videos.xlsx\",sheet_name=(\"600 ml-2m-60°\"),usecols=(\"H\"),skiprows=(1))"
   ]
  },
  {
   "cell_type": "code",
   "execution_count": 20,
   "id": "eee0de21",
   "metadata": {},
   "outputs": [],
   "source": [
    "# teta3 es 2 metros 600 ml 14 grados.\n",
    "teta3= pd.read_excel(\"Datos videos.xlsx\",sheet_name=(\"600 ml-2m-14°\"),usecols=(\"H\"),skiprows=(1))"
   ]
  },
  {
   "cell_type": "code",
   "execution_count": 21,
   "id": "35088c01",
   "metadata": {},
   "outputs": [],
   "source": [
    "# teta4 es 2 metros 600 ml 10 grados.\n",
    "teta4= pd.read_excel(\"Datos videos.xlsx\",sheet_name=(\"600 ml-2m-10°\"),usecols=(\"H\"),skiprows=(1))"
   ]
  },
  {
   "cell_type": "code",
   "execution_count": 22,
   "id": "097581e5",
   "metadata": {},
   "outputs": [],
   "source": [
    "# teta5 es 1 metro 600 ml 70 grados.\n",
    "teta5= pd.read_excel(\"Datos videos.xlsx\",sheet_name=(\"600 ml-1m-70°\"),usecols=(\"H\"),skiprows=(1))"
   ]
  },
  {
   "cell_type": "code",
   "execution_count": 23,
   "id": "37e9cfc8",
   "metadata": {},
   "outputs": [],
   "source": [
    "# teta6 es 1 metro 600 ml 60 grados.\n",
    "teta6= pd.read_excel(\"Datos videos.xlsx\",sheet_name=(\"600 ml-1m-60°\"),usecols=(\"H\"),skiprows=(1))"
   ]
  },
  {
   "cell_type": "code",
   "execution_count": 24,
   "id": "505a4385",
   "metadata": {},
   "outputs": [],
   "source": [
    "# teta7 es 1 metro 600 ml 14 grados.\n",
    "teta7= pd.read_excel(\"Datos videos.xlsx\",sheet_name=(\"600 ml-1m-14°\"),usecols=(\"H\"),skiprows=(1))"
   ]
  },
  {
   "cell_type": "code",
   "execution_count": 25,
   "id": "735a45d5",
   "metadata": {},
   "outputs": [],
   "source": [
    "# teta8 es 1 metro 600 ml 10 grados.\n",
    "teta8= pd.read_excel(\"Datos videos.xlsx\",sheet_name=(\"600 ml-1m-10°\"),usecols=(\"H\"),skiprows=(1))"
   ]
  },
  {
   "cell_type": "code",
   "execution_count": 26,
   "id": "f9f31572",
   "metadata": {},
   "outputs": [],
   "source": [
    "# teta9 es 2 metros 300 ml 70 grados.\n",
    "teta9= pd.read_excel(\"Datos videos.xlsx\",sheet_name=(\"300 ml-2m-70°\"),usecols=(\"H\"),skiprows=(1))"
   ]
  },
  {
   "cell_type": "code",
   "execution_count": 27,
   "id": "cffc0668",
   "metadata": {},
   "outputs": [],
   "source": [
    "# teta10 es 2 metros 300 ml 60 grados.\n",
    "teta10= pd.read_excel(\"Datos videos.xlsx\",sheet_name=(\"300 ml-2m-60°\"),usecols=(\"H\"),skiprows=(1))"
   ]
  },
  {
   "cell_type": "code",
   "execution_count": 28,
   "id": "7dd86704",
   "metadata": {},
   "outputs": [],
   "source": [
    "# teta11 es 2 metros 300 ml 14 grados.\n",
    "teta11= pd.read_excel(\"Datos videos.xlsx\",sheet_name=(\"300 ml-2m-14°\"),usecols=(\"H\"),skiprows=(1))"
   ]
  },
  {
   "cell_type": "code",
   "execution_count": 29,
   "id": "0bfd7715",
   "metadata": {},
   "outputs": [],
   "source": [
    "# teta12 es 2 metros 300 ml 10 grados.\n",
    "teta12= pd.read_excel(\"Datos videos.xlsx\",sheet_name=(\"300 ml-2m-10°\"),usecols=(\"H\"),skiprows=(1))"
   ]
  },
  {
   "cell_type": "code",
   "execution_count": 30,
   "id": "29e55482",
   "metadata": {},
   "outputs": [],
   "source": [
    "# teta13 es 1 metro 300 ml 70 grados.\n",
    "teta13= pd.read_excel(\"Datos videos.xlsx\",sheet_name=(\"300 ml-1m-70°\"),usecols=(\"H\"),skiprows=(1))"
   ]
  },
  {
   "cell_type": "code",
   "execution_count": 31,
   "id": "69371f36",
   "metadata": {},
   "outputs": [],
   "source": [
    "# teta14 es 1 metro 300 ml 60 grados.\n",
    "teta14= pd.read_excel(\"Datos videos.xlsx\",sheet_name=(\"300 ml-1m-60°\"),usecols=(\"H\"),skiprows=(1))"
   ]
  },
  {
   "cell_type": "code",
   "execution_count": 32,
   "id": "c4cb933b",
   "metadata": {},
   "outputs": [],
   "source": [
    "# teta15 es 1 metro 300 ml 14 grados.\n",
    "teta15= pd.read_excel(\"Datos videos.xlsx\",sheet_name=(\"300 ml-1m-14°\"),usecols=(\"H\"),skiprows=(1))"
   ]
  },
  {
   "cell_type": "code",
   "execution_count": 33,
   "id": "0d57905a",
   "metadata": {},
   "outputs": [],
   "source": [
    "# teta16 es 1 metro 300 ml 10 grados.\n",
    "teta16= pd.read_excel(\"Datos videos.xlsx\",sheet_name=(\"300 ml-1m-10°\"),usecols=(\"H\"),skiprows=(1))"
   ]
  },
  {
   "cell_type": "markdown",
   "id": "ebc231de",
   "metadata": {},
   "source": [
    "Al tenerlos en una lista, convertiremos los datos a un array para realizar operaciones más adelante."
   ]
  },
  {
   "cell_type": "code",
   "execution_count": 34,
   "id": "07fa82f1",
   "metadata": {},
   "outputs": [],
   "source": [
    "teta_1 = np.array(teta1[' θ1 promedio']) #2 metros 600 ml 70 grados."
   ]
  },
  {
   "cell_type": "code",
   "execution_count": 35,
   "id": "207ee587",
   "metadata": {},
   "outputs": [],
   "source": [
    "teta_2 = np.array(teta2['θ2 promedio']) #2 metros 600 ml 60 grados."
   ]
  },
  {
   "cell_type": "code",
   "execution_count": 36,
   "id": "5a09140b",
   "metadata": {},
   "outputs": [],
   "source": [
    "teta_3 = np.array(teta3['θ3 promedio']) #2 metros 600 ml 14 grados."
   ]
  },
  {
   "cell_type": "code",
   "execution_count": 37,
   "id": "99ce2a4b",
   "metadata": {},
   "outputs": [],
   "source": [
    "teta_4 = np.array(teta4['θ4 promedio ']) #2 metros 600 ml 10 grados."
   ]
  },
  {
   "cell_type": "code",
   "execution_count": 38,
   "id": "03e6a2cc",
   "metadata": {},
   "outputs": [],
   "source": [
    "teta_5 = np.array(teta5['θ5 promedio']) #1 metro 600 ml 70 grados."
   ]
  },
  {
   "cell_type": "code",
   "execution_count": 39,
   "id": "55aa958d",
   "metadata": {},
   "outputs": [],
   "source": [
    "teta_6 = np.array(teta6['θ6 promedio']) #1 metro 600 ml 60 grados."
   ]
  },
  {
   "cell_type": "code",
   "execution_count": 40,
   "id": "50a0a5c8",
   "metadata": {},
   "outputs": [],
   "source": [
    "teta_7 = np.array(teta7['θ7 promedio']) #1 metro 600 ml 14 grados."
   ]
  },
  {
   "cell_type": "code",
   "execution_count": 41,
   "id": "ffcc1a9f",
   "metadata": {},
   "outputs": [],
   "source": [
    "teta_8 = np.array(teta8['θ8 promedio']) #1 metro 600 ml 10 grados."
   ]
  },
  {
   "cell_type": "code",
   "execution_count": 42,
   "id": "0ce61e14",
   "metadata": {},
   "outputs": [],
   "source": [
    "teta_9 = np.array(teta9['θ9 promedio']) #2 metros 300 ml 70 grados."
   ]
  },
  {
   "cell_type": "code",
   "execution_count": 43,
   "id": "0ac46122",
   "metadata": {},
   "outputs": [],
   "source": [
    "teta_10 = np.array(teta10['θ10 promedio']) #2 metros 300 ml 60 grados."
   ]
  },
  {
   "cell_type": "code",
   "execution_count": 44,
   "id": "9fdb71bf",
   "metadata": {},
   "outputs": [],
   "source": [
    "teta_11 = np.array(teta11['θ11 promedio']) #2 metros 300 ml 14 grados."
   ]
  },
  {
   "cell_type": "code",
   "execution_count": 45,
   "id": "5f589a46",
   "metadata": {},
   "outputs": [],
   "source": [
    "teta_12 = np.array(teta12['θ12 promedio']) #2 metros 300 ml 10 grados."
   ]
  },
  {
   "cell_type": "code",
   "execution_count": 46,
   "id": "3cd6ab5d",
   "metadata": {},
   "outputs": [],
   "source": [
    "teta_13 = np.array(teta13['θ13 promedio']) #1 metro 300 ml 70 grados."
   ]
  },
  {
   "cell_type": "code",
   "execution_count": 47,
   "id": "5254e8d3",
   "metadata": {},
   "outputs": [],
   "source": [
    "teta_14 = np.array(teta14['θ14 promedio']) #1 metro 300 ml 60 grados."
   ]
  },
  {
   "cell_type": "code",
   "execution_count": 48,
   "id": "3d34e4df",
   "metadata": {},
   "outputs": [],
   "source": [
    "teta_15 = np.array(teta15['θ15 promedio']) #1 metro 300 ml 14 grados."
   ]
  },
  {
   "cell_type": "code",
   "execution_count": 49,
   "id": "19501f5e",
   "metadata": {},
   "outputs": [],
   "source": [
    "teta_16 = np.array(teta16['θ16 promedio']) #1 metro 300 ml 10 grados."
   ]
  },
  {
   "cell_type": "markdown",
   "id": "525915a9",
   "metadata": {},
   "source": [
    "3. Hallaremos la gravedad o un estimado de esta, guiándonos del periodo de los ángulos pequeños, entonces realizamos la operación $g \\approx \\frac{4 \\pi^{2} L}{T^{2}}$ para todos los datos con ángulos pequeños ($14°$, $10°$). "
   ]
  },
  {
   "cell_type": "code",
   "execution_count": 8,
   "id": "a09c5eff",
   "metadata": {},
   "outputs": [
    {
     "data": {
      "text/plain": [
       "9.803134249311897"
      ]
     },
     "execution_count": 8,
     "metadata": {},
     "output_type": "execute_result"
    }
   ],
   "source": [
    "#600ml2m 14 grados\n",
    "#Definimos las constantes que se utilizarán, estas serán el periodo(T1) y la longitud de la cuerda (L1)\n",
    "T1 = 2.838 \n",
    "L1 = 2  \n",
    "g1 = (4*(np.pi**2)*L1)/(T1**2)\n",
    "g1"
   ]
  },
  {
   "cell_type": "code",
   "execution_count": 9,
   "id": "a5eb1f68",
   "metadata": {},
   "outputs": [
    {
     "data": {
      "text/plain": [
       "9.803134249311897"
      ]
     },
     "execution_count": 9,
     "metadata": {},
     "output_type": "execute_result"
    }
   ],
   "source": [
    "# 600 ml 2 m 10 grados\n",
    "T2 = 2.838\n",
    "L2 = 2  \n",
    "g2 = (4*(np.pi**2)*L2)/(T2**2)\n",
    "g2"
   ]
  },
  {
   "cell_type": "code",
   "execution_count": 10,
   "id": "4368c221",
   "metadata": {},
   "outputs": [
    {
     "data": {
      "text/plain": [
       "9.430798765336995"
      ]
     },
     "execution_count": 10,
     "metadata": {},
     "output_type": "execute_result"
    }
   ],
   "source": [
    "#600 ml 1 metro 14 grados.\n",
    "T3 = 2.046\n",
    "L3 = 1  \n",
    "g3 = (4*(np.pi**2)*L3)/(T3**2)\n",
    "g3"
   ]
  },
  {
   "cell_type": "code",
   "execution_count": 11,
   "id": "b48c33e6",
   "metadata": {},
   "outputs": [
    {
     "data": {
      "text/plain": [
       "9.74253976187998"
      ]
     },
     "execution_count": 11,
     "metadata": {},
     "output_type": "execute_result"
    }
   ],
   "source": [
    "# 600 ml 1 m 10 grados\n",
    "T4 = 2.013\n",
    "L4 = 1  \n",
    "g4 = (4*(np.pi**2)*L4)/(T4**2)\n",
    "g4"
   ]
  },
  {
   "cell_type": "code",
   "execution_count": 12,
   "id": "e2461945",
   "metadata": {},
   "outputs": [
    {
     "data": {
      "text/plain": [
       "9.803134249311897"
      ]
     },
     "execution_count": 12,
     "metadata": {},
     "output_type": "execute_result"
    }
   ],
   "source": [
    "# 300 ml 2 metros 14 grados \n",
    "T5 = 2.838\n",
    "L5 = 2  \n",
    "g5 = (4*(np.pi**2)*L5)/(T5**2)\n",
    "g5"
   ]
  },
  {
   "cell_type": "code",
   "execution_count": 13,
   "id": "dbef9915",
   "metadata": {},
   "outputs": [
    {
     "data": {
      "text/plain": [
       "9.803134249311897"
      ]
     },
     "execution_count": 13,
     "metadata": {},
     "output_type": "execute_result"
    }
   ],
   "source": [
    "#300 ml 2 metros 10 grados\n",
    "T6 = 2.838\n",
    "L6 = 2\n",
    "g6 = (4*(np.pi**2)*L6)/(T6**2)\n",
    "g6"
   ]
  },
  {
   "cell_type": "code",
   "execution_count": 14,
   "id": "a6bcc776",
   "metadata": {},
   "outputs": [
    {
     "data": {
      "text/plain": [
       "9.849894761671257"
      ]
     },
     "execution_count": 14,
     "metadata": {},
     "output_type": "execute_result"
    }
   ],
   "source": [
    "# 300 ml 1 metros 14 grados\n",
    "T7 = 2.002\n",
    "L7 = 1  \n",
    "g7 = (4*(np.pi**2)*L7)/(T7**2)\n",
    "g7"
   ]
  },
  {
   "cell_type": "code",
   "execution_count": 15,
   "id": "e5282f07",
   "metadata": {},
   "outputs": [
    {
     "data": {
      "text/plain": [
       "9.74253976187998"
      ]
     },
     "execution_count": 15,
     "metadata": {},
     "output_type": "execute_result"
    }
   ],
   "source": [
    "# 300 ml 1 metro 10 grados\n",
    "T8 = 2.013\n",
    "L8 = 1  \n",
    "g8 = (4*(np.pi**2)*L8)/(T8**2)\n",
    "g8"
   ]
  },
  {
   "cell_type": "markdown",
   "id": "c602ca16",
   "metadata": {},
   "source": [
    "Teniendo ya todas las gravedades, hallamos un promedio de las gravedades que nos arrojó las anteriores operaciones, estimando la gravedad con la que trabajaremos en el siguiente desarrollo."
   ]
  },
  {
   "cell_type": "code",
   "execution_count": 16,
   "id": "3110ac9c",
   "metadata": {},
   "outputs": [
    {
     "data": {
      "text/plain": [
       "9.747288756001975"
      ]
     },
     "execution_count": 16,
     "metadata": {},
     "output_type": "execute_result"
    }
   ],
   "source": [
    "prom = (g1+g2+g3+g4+g5+g6+g7+g8)/8 #Sumamos las gravedades y la dividimos por el número de datos que hay\n",
    "prom"
   ]
  },
  {
   "cell_type": "markdown",
   "id": "ff7b4283",
   "metadata": {},
   "source": [
    "4. En este pao hallaremos el periodo para ángulos grandes pero esta vez tomando en cuenta la gravedad que nosotros hallamos guardada en \"$prom$\". Para ello utilizamos la siguiente fórmula: $T=2 \\pi \\sqrt{\\frac{L}{g}}\\left[\\sum_{n=0}^{\\infty}\\left(\\frac{(2 n) !}{2^{2 n}(n !)^{2}}\\right)^{2} \\sin ^{2 n}\\left(\\frac{\\theta_{0}}{2}\\right)\\right]$"
   ]
  },
  {
   "cell_type": "markdown",
   "id": "944acfc8",
   "metadata": {},
   "source": [
    "Al ser una sumatoria, definimos los valores que va a tomar n, como tiende a infinito, escogeremos un rango pequeño que tienda a infinito. Haremos esta sumatoria por partes, para mayor facilidad, entonces primer haremos una fórmula para $\\left(\\frac{(2 n) !}{2^{2 n}(n !)^{2}}\\right)^{2}$"
   ]
  },
  {
   "cell_type": "code",
   "execution_count": 43,
   "id": "5c44d245",
   "metadata": {},
   "outputs": [],
   "source": [
    "#Generamos el rango de n\n",
    "n =  np.arange(0, 16, 1) #Tomamos hasta 16 porque al pasarse de ese valor, los datos se vuelven muy pequeños y python no los lee.\n",
    "a = ((scipy.special.factorial(2*n)/((2**(2*n))*(scipy.special.factorial(n)**2))))**2 #Acá definimos solo una parte de la sumatoria y la asignamos a una variable \"a\"."
   ]
  },
  {
   "cell_type": "markdown",
   "id": "9158df22",
   "metadata": {},
   "source": [
    "En el siguiente código definimos en el renglón 3 lo que queda de la sumatoria, que es $\\sin ^{2 n}\\left(\\frac{\\theta_{0}}{2}\\right)$. También se degine el resto de fórmula en el renglón 6 $2 \\pi \\sqrt{\\frac{L}{g}}$, donde al unir todo, nos dará el valor del periodo para ángulos pequeños."
   ]
  },
  {
   "cell_type": "code",
   "execution_count": 47,
   "id": "26446035",
   "metadata": {},
   "outputs": [
    {
     "name": "stdout",
     "output_type": "stream",
     "text": [
      "Longitud: 2\n",
      "Ángulos en radianes: 1.264\n"
     ]
    },
    {
     "data": {
      "text/plain": [
       "3.1594276219719104"
      ]
     },
     "execution_count": 47,
     "metadata": {},
     "output_type": "execute_result"
    }
   ],
   "source": [
    "L = int(input(\"Longitud: \")) #Generamos un input para introducir la longitud con la que se trabajará y la llamaremos \"L\"\n",
    "theta = float(input(\"Ángulos en radianes: \")) #Para el ángulo, lo debemos tener en radiamos y generaremos un input donde se introducirá el ángulo que queremos, lo llamaremos \"theta\"\n",
    "b = math.sin(theta/2)**(2*n) #Acá se define la parte final que queda de la sumatoria y la llamaremos \"b\".\n",
    "c = a*b #Se multiplica a*b para seguir el orden de la fórmula inicial y le asignamos una variable a esos valores \"c\".\n",
    "d = c.sum() #Como nos da un arreglo o arrray, queremos sumar todos sus elementos, para eso usamos c.sum() y le asignamos a una variable \"d\".\n",
    "T = 2*np.pi*math.sqrt(L/prom)*(d) #Se multiplica por lo que falta\n",
    "T #Se imprime el resultado."
   ]
  },
  {
   "cell_type": "markdown",
   "id": "0ae982c3",
   "metadata": {},
   "source": [
    "A continuación se realiza el mismo procedimiento pero para las diferentes condiciones que nos plantea el experimento."
   ]
  },
  {
   "cell_type": "code",
   "execution_count": 48,
   "id": "81a5f2b4",
   "metadata": {},
   "outputs": [
    {
     "name": "stdout",
     "output_type": "stream",
     "text": [
      "Longitud: 2\n",
      "Ángulos en radianes: 1.086\n"
     ]
    },
    {
     "data": {
      "text/plain": [
       "3.0712889322948214"
      ]
     },
     "execution_count": 48,
     "metadata": {},
     "output_type": "execute_result"
    }
   ],
   "source": [
    "L = int(input(\"Longitud: \"))\n",
    "theta = float(input(\"Ángulos en radianes: \"))\n",
    "b = math.sin(theta/2)**(2*n)\n",
    "c = a*b\n",
    "d = c.sum()\n",
    "T = 2*np.pi*math.sqrt(L/prom)*(d)\n",
    "T"
   ]
  },
  {
   "cell_type": "code",
   "execution_count": 49,
   "id": "10d8943d",
   "metadata": {},
   "outputs": [
    {
     "name": "stdout",
     "output_type": "stream",
     "text": [
      "Longitud: 1\n",
      "Ángulos en radianes: 1.264\n"
     ]
    },
    {
     "data": {
      "text/plain": [
       "2.234052696164426"
      ]
     },
     "execution_count": 49,
     "metadata": {},
     "output_type": "execute_result"
    }
   ],
   "source": [
    "L = int(input(\"Longitud: \"))\n",
    "theta = float(input(\"Ángulos en radianes: \"))\n",
    "b = math.sin(theta/2)**(2*n)\n",
    "c = a*b\n",
    "d = c.sum()\n",
    "T = 2*np.pi*math.sqrt(L/prom)*(d)\n",
    "T"
   ]
  },
  {
   "cell_type": "code",
   "execution_count": 50,
   "id": "840d52b3",
   "metadata": {},
   "outputs": [
    {
     "name": "stdout",
     "output_type": "stream",
     "text": [
      "Longitud: 1\n",
      "Ángulos en radianes: 1.086\n"
     ]
    },
    {
     "data": {
      "text/plain": [
       "2.1717292310088596"
      ]
     },
     "execution_count": 50,
     "metadata": {},
     "output_type": "execute_result"
    }
   ],
   "source": [
    "L = int(input(\"Longitud: \"))\n",
    "theta = float(input(\"Ángulos en radianes: \"))\n",
    "b = math.sin(theta/2)**(2*n)\n",
    "c = a*b\n",
    "d = c.sum()\n",
    "T = 2*np.pi*math.sqrt(L/prom)*(d)\n",
    "T"
   ]
  },
  {
   "cell_type": "markdown",
   "id": "52437603",
   "metadata": {},
   "source": [
    "5. Ya teniendo el periodo, ahora queremos simular el movimiento del péndulo, para ello vamos a hallar aceleración angular($a$), velocidad angular($w$), los ángulos experimentales($ang$) y la tensión de la cuerda($te$). Cabe aclarar que solo medirémos 8 condiciones y no las 16 para los 3 primeros datos, pues al no depender de la masa ninguna de ella, se asume que los datos serán similares cuando varía solo su masa."
   ]
  },
  {
   "cell_type": "markdown",
   "id": "637419b8",
   "metadata": {},
   "source": [
    "Para hallar la aceleración angular utilizamos la siguiente fórmula $\\alpha_{i}=\\frac{g \\operatorname{sen} \\theta_{i}}{r}$."
   ]
  },
  {
   "cell_type": "code",
   "execution_count": 326,
   "id": "58afbf61",
   "metadata": {},
   "outputs": [],
   "source": [
    "# Se halla la velocidad angular en las ocho condiciones con su respectivo ángulo.\n",
    "L1 = 2     #longitud de 2 m\n",
    "L2 =1      #Longitud de 1 m\n",
    "a1 = (prom * np.sin(teta_1))/L1 #2m 70°\n",
    "a2 = (prom * np.sin(teta_2))/L1 #2m 60°\n",
    "a3 = (prom * teta_3)/L1 #2m 14°\n",
    "a4 = (prom * teta_4)/L1 #2m 10°\n",
    "a5 = (prom * np.sin(teta_5))/L2 #1m 70°\n",
    "a6 = (prom * np.sin(teta_6))/L2 #1m 60°\n",
    "a7 = (prom * teta_7)/L2 #1m 14°\n",
    "a8 = (prom * teta_8)/L2 #1m 10°"
   ]
  },
  {
   "cell_type": "markdown",
   "id": "b63458f2",
   "metadata": {},
   "source": [
    "Ahora para hallar la velocidad angular utilizamos la siguiente sucesión $\\omega_{i+1}=\\omega_{i}+\\alpha_{i}\\left[t_{i+1}-t_{i}\\right]$, donde $\\left[t_{i+1}-t_{i}\\right]$ lo vamos a representar como delta de tiempo($dt$)."
   ]
  },
  {
   "cell_type": "code",
   "execution_count": 327,
   "id": "5817c5ff",
   "metadata": {},
   "outputs": [],
   "source": [
    "#Al ser una sucesión vamos a utilizar el for in range, para ello generamos unos arrays de 0 que representarán\n",
    "#cada uno la velocidad angular para las 8 condiciones, estas serán llenadas después con el valor que dé la sucesión.\n",
    "w1= np.zeros(97) #2m 70°\n",
    "w2= np.zeros(94) #2m 60°\n",
    "w3= np.zeros(87) #2m 14°\n",
    "w4= np.zeros(87) #2m 10°\n",
    "w5= np.zeros(70) #1m 70°\n",
    "w6= np.zeros(67) #1m 60°\n",
    "w7= np.zeros(63) #1m 14°\n",
    "w8= np.zeros(62) #1m 10°\n",
    "\n",
    "dt = 0.033 #Definimos delta de tiempo\n",
    "\n",
    "#Ahora generamos la sucesión de la siguiente forma, el rango representa el número de intervalos que tomó en cuenta tracker.\n",
    "\n",
    "#El rango empieza desde 1 pues la velocidad inicial es igual a 0.\n",
    "\n",
    "#Anteriormente se mencionó el hecho de convertir las listas de los datos de tracker a arrrays, pues aquí es donde se encuentra \n",
    "#su importancia, pues de otro modo los diferentes datos que me daban no iban a ser compatibles con la fórmula.\n",
    "for i in range(1, 97):\n",
    "    w1[i]=w1[i-1] + a1[i-1]*dt \n",
    "for i in range(1, 94):    \n",
    "    w2[i]=w2[i-1] + a2[i-1]*dt\n",
    "for i in range(1, 87):\n",
    "    w3[i]=w3[i-1] + a3[i-1]*dt\n",
    "for i in range(1, 87):\n",
    "    w4[i]=w4[i-1] + a4[i-1]*dt\n",
    "for i in range(1, 70):\n",
    "    w5[i]=w5[i-1] + a5[i-1]*dt\n",
    "for i in range(1, 67):\n",
    "    w6[i]=w6[i-1] + a6[i-1]*dt\n",
    "for i in range(1, 63):\n",
    "    w7[i]=w7[i-1] + a7[i-1]*dt\n",
    "for i in range(1, 62):\n",
    "    w8[i]=w8[i-1] + a8[i-1]*dt\n"
   ]
  },
  {
   "cell_type": "markdown",
   "id": "bd5de0df",
   "metadata": {},
   "source": [
    "Ahora hallaremos los ángulos experimentales con la siguiente fórmula $\\theta_{i+1}=\\theta_{i}+\\omega_{i}\\left[t_{i+1}-t_{i}\\right]+\\alpha_{i} \\frac{\\left[t_{i+1}-t_{i}\\right]^{2}}{2}$"
   ]
  },
  {
   "cell_type": "code",
   "execution_count": 328,
   "id": "37d07c66",
   "metadata": {},
   "outputs": [],
   "source": [
    "#Se realiza lo mismo que en la anterior operación para hallar la velocidad angular.\n",
    "ang1= np.zeros(97) #2m 70°\n",
    "ang2= np.zeros(94) #2m 60°\n",
    "ang3= np.zeros(87) #2m 14°\n",
    "ang4= np.zeros(87) #2m 10°\n",
    "ang5= np.zeros(70) #1m 70°\n",
    "ang6= np.zeros(67) #1m 60°\n",
    "ang7= np.zeros(63) #1m 14°\n",
    "ang8= np.zeros(62) #1m 10°\n",
    "\n",
    "#Definimos el primer ángulo de cada arreglo, donde serán negativos pues se tomarán en cuenta respecto al eje x.\n",
    "ang1[0] = -1.264\n",
    "ang2[0] = -1.097\n",
    "ang3[0] = -0.270\n",
    "ang4[0] = -0.232\n",
    "ang5[0] = -1.227\n",
    "ang6[0] = -1.086\n",
    "ang7[0] = -0.256\n",
    "ang8[0] = -0.276\n",
    "\n",
    "#En este caso, la fórmula cumple para cuando los grados empiezan en 0°, representando la amplitud.\n",
    "\n",
    "for c in range(1,97):\n",
    "    ang1[c] = (ang1[c-1] + w1[c-1] * dt)+ a1[c-1] * (((dt)**2)/2)\n",
    "for c in range(1,94):\n",
    "    ang2[c] = (ang2[c-1] + w2[c-1] * dt)+ a2[c-1] * (((dt)**2)/2)\n",
    "for c in range(1,87):\n",
    "    ang3[c] = (ang3[c-1] + w3[c-1] * dt)+ a3[c-1] * (((dt)**2)/2)\n",
    "for c in range(1,87):\n",
    "    ang4[c] = (ang4[c-1] + w4[c-1] * dt)+ a4[c-1] * (((dt)**2)/2)\n",
    "for c in range(1,70):\n",
    "    ang5[c] = (ang5[c-1] + w5[c-1] * dt)+ a5[c-1] * (((dt)**2)/2)\n",
    "for c in range(1,67):\n",
    "    ang6[c] = (ang6[c-1] + w6[c-1] * dt)+ a6[c-1] * (((dt)**2)/2)\n",
    "for c in range(1,63):\n",
    "    ang7[c] = (ang7[c-1] + w7[c-1] * dt)+ a7[c-1] * (((dt)**2)/2)\n",
    "for c in range(1,62):\n",
    "    ang8[c] = (ang8[c-1] + w8[c-1] * dt)+ a8[c-1] * (((dt)**2)/2)\n"
   ]
  },
  {
   "cell_type": "markdown",
   "id": "3abc6250",
   "metadata": {},
   "source": [
    "Ahora se halla la fuerza de tensión de la siguiente forma $T_{i}=-m \\omega_{i}^{2} r+m g \\cos \\theta_{i}$, en este caso al importar la masa, entonces serán 16 condiciones que se evaluarán.\n",
    "Como el líquido dentro de la botella es agua a temperatura ambiente, hacemos una aproximación de su densidad a $1 g/cm3$, entonces haciendo conversión para $600 ml$, decimos que es igual a $0.0006kg$ y para $300 ml$, decimos que es igual a $0.0003kg$."
   ]
  },
  {
   "cell_type": "code",
   "execution_count": 329,
   "id": "0e309f72",
   "metadata": {},
   "outputs": [],
   "source": [
    "te1= np.zeros(97) #600 ml 2m 70°\n",
    "te2= np.zeros(94) #600 ml 2m 60°\n",
    "te3= np.zeros(87) #600 ml 2m 14°\n",
    "te4= np.zeros(87) #600 ml 2m 10°\n",
    "te5= np.zeros(70) #600 ml 1m 70°\n",
    "te6= np.zeros(69) #600 ml 1m 60°\n",
    "te7= np.zeros(63) #600 ml 1m 14°\n",
    "te8= np.zeros(62) #600 ml 1m 10°\n",
    "te9= np.zeros(97) #300 ml 2m 70°\n",
    "te10= np.zeros(94) #300 ml 2m 60°\n",
    "te11= np.zeros(87) #300 ml 2m 14°\n",
    "te12= np.zeros(87) #300 ml 2m 10°\n",
    "te13= np.zeros(70) #300 ml 1m 70°\n",
    "te14= np.zeros(67) #300 ml 1m 60°\n",
    "te15= np.zeros(63) #300 ml 1m 14°\n",
    "te16= np.zeros(62) #300 ml 1m 10°\n",
    "\n",
    "for c in range(1,97):\n",
    "    te1[c]=-0.006*((w1[c-1])**2)*2+0.006*a1[c-1]*np.cos(ang1[c-1])\n",
    "for c in range(1,4):\n",
    "    te2[c]=-0.006*((w2[c-1])**2)*2+0.006*a2[c-1]*np.cos(ang2[c-1])\n",
    "for c in range(1,87):\n",
    "    te3[c]=-0.006*((w3[c-1])**2)*2+0.006*a3[c-1]*np.cos(ang3[c-1])\n",
    "for c in range(1,87):\n",
    "    te4[c]=-0.006*((w4[c-1])**2)*2+0.006*a4[c-1]*np.cos(ang4[c-1])\n",
    "for c in range(1,70):\n",
    "    te5[c]=-0.006*((w5[c-1])**2)*2+0.006*a5[c-1]*np.cos(ang5[c-1])\n",
    "for c in range(1,67):\n",
    "    te6[c]=-0.006*((w6[c-1])**2)*2+0.006*a6[c-1]*np.cos(ang6[c-1])\n",
    "for c in range(1,63):\n",
    "    te7[c]=-0.006*((w7[c-1])**2)*2+0.006*a7[c-1]*np.cos(ang7[c-1])\n",
    "for c in range(1,62):\n",
    "    te8[c]=-0.006*((w8[c-1])**2)*2+0.006*a8[c-1]*np.cos(ang8[c-1])\n",
    "\n",
    "for c in range(1,97):\n",
    "    te9[c]=-0.003*((w1[c-1])**2)*2+0.006*a1[c-1]*np.cos(ang1[c-1])\n",
    "for c in range(1,94):\n",
    "    te10[c]=-0.003*((w2[c-1])**2)*2+0.006*a2[c-1]*np.cos(ang2[c-1])\n",
    "for c in range(1,87):\n",
    "    te11[c]=-0.003*((w3[c-1])**2)*2+0.006*a3[c-1]*np.cos(ang3[c-1])\n",
    "for c in range(1,87):\n",
    "    te12[c]=-0.003*((w4[c-1])**2)*2+0.006*a4[c-1]*np.cos(ang4[c-1])\n",
    "for c in range(1,70):\n",
    "    te13[c]=-0.003*((w5[c-1])**2)*2+0.006*a5[c-1]*np.cos(ang5[c-1])\n",
    "for c in range(1,67):\n",
    "    te14[c]=-0.003*((w6[c-1])**2)*2+0.006*a6[c-1]*np.cos(ang6[c-1])\n",
    "for c in range(1,63):\n",
    "    te15[c]=-0.003*((w7[c-1])**2)*2+0.006*a7[c-1]*np.cos(ang7[c-1])\n",
    "for c in range(1,62):\n",
    "    te16[c]=-0.003*((w8[c-1])**2)*2+0.006*a8[c-1]*np.cos(ang8[c-1])"
   ]
  },
  {
   "cell_type": "markdown",
   "id": "6354bc4d",
   "metadata": {},
   "source": [
    "6. Vamos a graficar los ángulos teóricos con respecto al tiempo y los compararemos con los ángulos experimentales."
   ]
  },
  {
   "cell_type": "markdown",
   "id": "a552f56f",
   "metadata": {},
   "source": [
    "#### Nota: Se aclara que los ángulos medidos en tracker nos da una función que vamos a invertir para que tenga la misma posición con los ángulos teóricos. "
   ]
  },
  {
   "cell_type": "code",
   "execution_count": 330,
   "id": "b5f162d1",
   "metadata": {},
   "outputs": [
    {
     "data": {
      "text/plain": [
       "<matplotlib.legend.Legend at 0x2965bd5ebb0>"
      ]
     },
     "execution_count": 330,
     "metadata": {},
     "output_type": "execute_result"
    },
    {
     "data": {
      "image/png": "[encoded data removed]",
      "text/plain": [
       "<Figure size 1080x360 with 1 Axes>"
      ]
     },
     "metadata": {
      "needs_background": "light"
     },
     "output_type": "display_data"
    }
   ],
   "source": [
    "#Se determina el rango que va a tener el tiempo para cada uno de las gráficas con sus respectivos ángulos para la parte teórica\n",
    "#Y para la parte experimental.\n",
    "tiempo = np.arange(0,3.201,0.033)\n",
    "a=plt.figure(figsize=(15, 5))\n",
    "ax = a.add_subplot(111) #Se crea el espacio donde se va a graficar\n",
    "ax.plot(tiempo ,ang1,\".b\", label=\"Teórica\") #Se define el eje x y el eje y para la teórica.\n",
    "ax.plot(tiempo ,-teta_1,\"-.r\", label=\"Experimental\") #Se define el eje x y el eje y para la experimental.\n",
    "\n",
    "plt.title(\"Amplitud condición 1: $2 m <-> 70°$\") #Se define el título del video que será la condición que estamos analizando.\n",
    "plt.ylabel(\"angulos $[rad]$\") #Se define el título que tendrá el eje y\n",
    "plt.xlabel(\"tiempo$[seg]$\") #Se define el título que tendrá el eje x\n",
    "\n",
    "plt.legend() #Muestra las legendas"
   ]
  },
  {
   "cell_type": "code",
   "execution_count": 331,
   "id": "d0577306",
   "metadata": {},
   "outputs": [
    {
     "data": {
      "text/plain": [
       "<matplotlib.legend.Legend at 0x2965e019100>"
      ]
     },
     "execution_count": 331,
     "metadata": {},
     "output_type": "execute_result"
    },
    {
     "data": {
      "image/png": "[encoded data removed]",
      "text/plain": [
       "<Figure size 1080x360 with 1 Axes>"
      ]
     },
     "metadata": {
      "needs_background": "light"
     },
     "output_type": "display_data"
    }
   ],
   "source": [
    "tiempo2 = np.arange(0,3.102,0.033)\n",
    "a=plt.figure(figsize=(15, 5))\n",
    "ax = a.add_subplot(111)\n",
    "ax.plot(tiempo2 ,ang2,\".g\",label=\"Teórica\")\n",
    "ax.plot(tiempo2 ,-teta_2,\"-.\", color=\"orange\", label=\"Experimental\") \n",
    "\n",
    "plt.title(\"Amplitud condición 2: $2 m <-> 60°$\")\n",
    "plt.ylabel(\"angulos $[rad]$\")\n",
    "plt.xlabel(\"tiempo$[seg]$\")\n",
    "\n",
    "plt.legend()"
   ]
  },
  {
   "cell_type": "code",
   "execution_count": 332,
   "id": "cbe5aa54",
   "metadata": {},
   "outputs": [
    {
     "data": {
      "text/plain": [
       "<matplotlib.legend.Legend at 0x2965e02ac70>"
      ]
     },
     "execution_count": 332,
     "metadata": {},
     "output_type": "execute_result"
    },
    {
     "data": {
      "image/png": "[encoded data removed]",
      "text/plain": [
       "<Figure size 1080x360 with 1 Axes>"
      ]
     },
     "metadata": {
      "needs_background": "light"
     },
     "output_type": "display_data"
    }
   ],
   "source": [
    "tiempo3 = np.arange(0,2.871,0.033)\n",
    "a=plt.figure(figsize=(15, 5))\n",
    "ax = a.add_subplot(111)\n",
    "ax.plot(tiempo3 ,ang3,\".b\", label='Teórica')\n",
    "ax.plot(tiempo3 ,-teta_3,\"-.r\", label=\"Experimental\")\n",
    "\n",
    "plt.title(\"Amplitud condición 3: $2 m <-> 14°$\")\n",
    "plt.ylabel(\"angulos $[rad]$\")\n",
    "plt.xlabel(\"tiempo$[seg]$\")\n",
    "\n",
    "plt.legend()"
   ]
  },
  {
   "cell_type": "code",
   "execution_count": 333,
   "id": "d7d3dbb4",
   "metadata": {},
   "outputs": [
    {
     "data": {
      "text/plain": [
       "<matplotlib.legend.Legend at 0x2965e0da730>"
      ]
     },
     "execution_count": 333,
     "metadata": {},
     "output_type": "execute_result"
    },
    {
     "data": {
      "image/png": "[encoded data removed]",
      "text/plain": [
       "<Figure size 1080x360 with 1 Axes>"
      ]
     },
     "metadata": {
      "needs_background": "light"
     },
     "output_type": "display_data"
    }
   ],
   "source": [
    "a=plt.figure(figsize=(15, 5))\n",
    "ax = a.add_subplot(111)\n",
    "ax.plot(tiempo3 ,ang4, \".\", color = \"orange\", label=\"Teórica\")\n",
    "ax.plot(tiempo3 ,-teta_4,\"-.\", color = 'purple', label=\"Experimental\")\n",
    "\n",
    "plt.title(\"Amplitud condición 4: $2 m <-> 10°$\")\n",
    "plt.ylabel(\"angulos $[rad]$\")\n",
    "plt.xlabel(\"tiempo$[seg]$\")\n",
    "\n",
    "plt.legend()"
   ]
  },
  {
   "cell_type": "code",
   "execution_count": 334,
   "id": "1a3c8ef6",
   "metadata": {},
   "outputs": [
    {
     "data": {
      "text/plain": [
       "<matplotlib.legend.Legend at 0x2965e9f2250>"
      ]
     },
     "execution_count": 334,
     "metadata": {},
     "output_type": "execute_result"
    },
    {
     "data": {
      "image/png": "[encoded data removed]",
      "text/plain": [
       "<Figure size 1080x360 with 1 Axes>"
      ]
     },
     "metadata": {
      "needs_background": "light"
     },
     "output_type": "display_data"
    }
   ],
   "source": [
    "tiempo5 = np.arange(0,2.31,0.033)\n",
    "a=plt.figure(figsize=(15, 5))\n",
    "ax = a.add_subplot(111)\n",
    "ax.plot(tiempo5 ,ang5,\".\", color = \"grey\",label=\"Teórica\")\n",
    "ax.plot(tiempo5 ,-teta_5,\"-.r\", label=\"Experimental\")\n",
    "\n",
    "plt.title(\"Amplitud condición 5: $1 m <-> 70°$\")\n",
    "plt.ylabel(\"angulos $[rad]$\")\n",
    "plt.xlabel(\"tiempo$[seg]$\")\n",
    "\n",
    "plt.legend()"
   ]
  },
  {
   "cell_type": "code",
   "execution_count": 335,
   "id": "8bb7fc02",
   "metadata": {},
   "outputs": [
    {
     "data": {
      "text/plain": [
       "<matplotlib.legend.Legend at 0x296607507f0>"
      ]
     },
     "execution_count": 335,
     "metadata": {},
     "output_type": "execute_result"
    },
    {
     "data": {
      "image/png": "[encoded data removed]",
      "text/plain": [
       "<Figure size 1080x360 with 1 Axes>"
      ]
     },
     "metadata": {
      "needs_background": "light"
     },
     "output_type": "display_data"
    }
   ],
   "source": [
    "tiempo6 = np.arange(0,2.211,0.033)\n",
    "a=plt.figure(figsize=(15, 5))\n",
    "ax = a.add_subplot(111)\n",
    "ax.plot(tiempo6 ,ang6,\".\", color = \"brown\", label=\"Teórica\")\n",
    "ax.plot(tiempo6 ,-teta_6,\"-.r\", label=\"Experimental\")\n",
    "\n",
    "plt.title(\"Amplitud condición 6: $1 m <-> 60°$\")\n",
    "plt.ylabel(\"angulos $[rad]$\")\n",
    "plt.xlabel(\"tiempo$[seg]$\")\n",
    "\n",
    "plt.legend()"
   ]
  },
  {
   "cell_type": "code",
   "execution_count": 336,
   "id": "44fcfed2",
   "metadata": {},
   "outputs": [
    {
     "data": {
      "text/plain": [
       "<matplotlib.legend.Legend at 0x29660ec52e0>"
      ]
     },
     "execution_count": 336,
     "metadata": {},
     "output_type": "execute_result"
    },
    {
     "data": {
      "image/png": "[encoded data removed]",
      "text/plain": [
       "<Figure size 1080x360 with 1 Axes>"
      ]
     },
     "metadata": {
      "needs_background": "light"
     },
     "output_type": "display_data"
    }
   ],
   "source": [
    "tiempo7 = np.arange(0,2.079,0.033)\n",
    "a=plt.figure(figsize=(15, 5))\n",
    "ax = a.add_subplot(111)\n",
    "ax.plot(tiempo7 ,ang7,\".\", color=\"black\", label=\"Teórica\")\n",
    "ax.plot(tiempo7 ,-teta_7,\"-.r\", label=\"Experimental\")\n",
    "\n",
    "plt.title(\"Amplitud condición 7: $1 m <-> 14°$\")\n",
    "plt.ylabel(\"angulos $[rad]$\")\n",
    "plt.xlabel(\"tiempo$[seg]$\")\n",
    "\n",
    "plt.legend()"
   ]
  },
  {
   "cell_type": "code",
   "execution_count": 337,
   "id": "aca8dc5f",
   "metadata": {},
   "outputs": [
    {
     "data": {
      "text/plain": [
       "<matplotlib.legend.Legend at 0x2966142ffd0>"
      ]
     },
     "execution_count": 337,
     "metadata": {},
     "output_type": "execute_result"
    },
    {
     "data": {
      "image/png": "[encoded data removed]",
      "text/plain": [
       "<Figure size 1080x360 with 1 Axes>"
      ]
     },
     "metadata": {
      "needs_background": "light"
     },
     "output_type": "display_data"
    }
   ],
   "source": [
    "tiempo8 = np.arange(0,2.046,0.033)\n",
    "a=plt.figure(figsize=(15, 5))\n",
    "ax = a.add_subplot(111)\n",
    "ax.plot(tiempo8 ,ang8, \".\", color = \"purple\", label=\"Teórica\")\n",
    "ax.plot(tiempo8 ,-teta_8,\"-.r\", label=\"Experimental\")\n",
    "\n",
    "plt.title(\"Amplitud condición 8: $1 m <-> 10°$\")\n",
    "plt.ylabel(\"angulos $[rad]$\")\n",
    "plt.xlabel(\"tiempo$[seg]$\")\n",
    "\n",
    "plt.legend()"
   ]
  },
  {
   "cell_type": "code",
   "execution_count": null,
   "id": "51713baf",
   "metadata": {},
   "outputs": [],
   "source": []
  }
 ],
 "metadata": {
  "kernelspec": {
   "display_name": "Python 3",
   "language": "python",
   "name": "python3"
  },
  "language_info": {
   "codemirror_mode": {
    "name": "ipython",
    "version": 3
   },
   "file_extension": ".py",
   "mimetype": "text/x-python",
   "name": "python",
   "nbconvert_exporter": "python",
   "pygments_lexer": "ipython3",
   "version": "3.8.8"
  }
 },
 "nbformat": 4,
 "nbformat_minor": 5
}
